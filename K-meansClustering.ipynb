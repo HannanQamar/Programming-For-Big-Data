{
 "cells": [
  {
   "cell_type": "code",
   "execution_count": 1,
   "metadata": {},
   "outputs": [],
   "source": [
    "import random"
   ]
  },
  {
   "cell_type": "code",
   "execution_count": 2,
   "metadata": {},
   "outputs": [
    {
     "name": "stdout",
     "output_type": "stream",
     "text": [
      "Data Set : [15, 15, 16, 19, 19, 20, 20, 21, 22, 28, 35, 40, 41, 42, 43, 44, 60, 61, 65]\n",
      "Value of k (no.of clusters): 2\n",
      "Centeriod of Cluster 1 : 42\n",
      "Centeriod of Cluster 2 : 21\n"
     ]
    }
   ],
   "source": [
    "#step1\n",
    "#Determine the value of K\n",
    "x=[15,15,16,19,19,20,20,21,22,28,35,40,41,42,43,44,60,61,65]\n",
    "k = 2\n",
    "c11=random.choice(x)\n",
    "c12=random.choice(x)\n",
    "c1=0\n",
    "c2=0\n",
    "\n",
    "flag = True\n",
    "while flag:\n",
    "    if c11!=c12:\n",
    "        flag=False\n",
    "        break;\n",
    "    else:\n",
    "        c11=random.choice(x)\n",
    "        c12=random.choice(x)\n",
    "        \n",
    "print(\"Data Set :\",x)\n",
    "print(\"Value of k (no.of clusters):\",k)\n",
    "print(\"Centeriod of Cluster 1 :\",c11)\n",
    "print(\"Centeriod of Cluster 2 :\",c12)"
   ]
  },
  {
   "cell_type": "code",
   "execution_count": 7,
   "metadata": {},
   "outputs": [
    {
     "name": "stdout",
     "output_type": "stream",
     "text": [
      "Iteration : 1\n",
      "c1: 21\n",
      "c2: 50\n",
      "Cluster 1: [6, 6, 5, 2, 2, 1, 1, 0, 1, 7, 14]\n",
      "Cluster 2: [10, 9, 8, 7, 6, 10, 11, 15]\n"
     ]
    }
   ],
   "source": [
    "#Measure Distance\n",
    "#assigning  to nearest cluster\n",
    "iteration =1 \n",
    "Cluster1=[]\n",
    "Cluster2=[]\n",
    "x1=[]\n",
    "x2=[]\n",
    "for i in x:\n",
    "    if abs(c11-i)<abs(c12-i):\n",
    "        Cluster1.append(abs(c11-i))\n",
    "        x1.append(i)\n",
    "    else:\n",
    "            Cluster2.append(abs(c12-i))\n",
    "            x2.append(i)\n",
    "            \n",
    "print(\"Iteration :\",iteration)\n",
    "print('c1:',c11)\n",
    "print('c2:',c12)\n",
    "print(\"Cluster 1:\",Cluster1)\n",
    "print(\"Cluster 2:\",Cluster2)           \n",
    "    "
   ]
  },
  {
   "cell_type": "code",
   "execution_count": 10,
   "metadata": {},
   "outputs": [
    {
     "name": "stdout",
     "output_type": "stream",
     "text": [
      "c1: 21\n",
      "c2: 50\n"
     ]
    }
   ],
   "source": [
    "#New Centeriod Initialization\n",
    "print('c1:',c1)\n",
    "print('c2:',c2)\n",
    "c1=round(sum(x1) / len(x1))\n",
    "c2=round(sum(x2) / len(x2))\n",
    "flag = True\n",
    "while flag:\n",
    "    if c1==c11 and c2==c12:\n",
    "        flag=False\n",
    "        break\n",
    "    else:\n",
    "        iteration = iteration+1\n",
    "        c11=c1\n",
    "        c12=c2"
   ]
  },
  {
   "cell_type": "code",
   "execution_count": 12,
   "metadata": {},
   "outputs": [
    {
     "name": "stdout",
     "output_type": "stream",
     "text": [
      "Data Set : [15, 15, 16, 19, 19, 20, 20, 21, 22, 28, 35, 40, 41, 42, 43, 44, 60, 61, 65]\n",
      "Value of k (no.of clusters): 2\n",
      "Centeriod of Cluster 1 : 61\n",
      "Centeriod of Cluster 2 : 20\n",
      "Iteration : 1\n",
      "c1: 61\n",
      "c2: 20\n",
      "Cluster 1: [20, 19, 18, 17, 1, 0, 4]\n",
      "Cluster 2: [5, 5, 4, 1, 1, 0, 0, 1, 2, 8, 15, 20]\n",
      "Iteration : 2\n",
      "c1: 51\n",
      "c2: 22\n",
      "Cluster 1: [11, 10, 9, 8, 7, 9, 10, 14]\n",
      "Cluster 2: [7, 7, 6, 3, 3, 2, 2, 1, 0, 6, 13]\n",
      "Iteration : 3\n",
      "c1: 50\n",
      "c2: 21\n",
      "Cluster 1: [10, 9, 8, 7, 6, 10, 11, 15]\n",
      "Cluster 2: [6, 6, 5, 2, 2, 1, 1, 0, 1, 7, 14]\n"
     ]
    }
   ],
   "source": [
    "# Summerized Code\n",
    "x=[15,15,16,19,19,20,20,21,22,28,35,40,41,42,43,44,60,61,65]\n",
    "k = 2\n",
    "c11=random.choice(x)\n",
    "c12=random.choice(x)\n",
    "c1=0\n",
    "c2=0\n",
    "\n",
    "flag = True\n",
    "while flag:\n",
    "    if c11!=c12:\n",
    "        flag=False\n",
    "        break;\n",
    "    else:\n",
    "        c11=random.choice(x)\n",
    "        c12=random.choice(x)\n",
    "        \n",
    "print(\"Data Set :\",x)\n",
    "print(\"Value of k (no.of clusters):\",k)\n",
    "print(\"Centeriod of Cluster 1 :\",c11)\n",
    "print(\"Centeriod of Cluster 2 :\",c12)\n",
    "\n",
    "\n",
    "flag = True\n",
    "iteration =1 \n",
    "\n",
    "while flag:\n",
    "    Cluster1=[]\n",
    "    Cluster2=[]\n",
    "    x1=[]\n",
    "    x2=[]\n",
    "    \n",
    "    for i in x:\n",
    "        if abs(c11-i)<abs(c12-i):\n",
    "            Cluster1.append(abs(c11-i))\n",
    "            x1.append(i)\n",
    "        else:\n",
    "            Cluster2.append(abs(c12-i))\n",
    "            x2.append(i)\n",
    "            \n",
    "    print(\"Iteration :\",iteration)\n",
    "    print('c1:',c11)\n",
    "    print('c2:',c12)\n",
    "    print(\"Cluster 1:\",Cluster1)\n",
    "    print(\"Cluster 2:\",Cluster2)\n",
    "    c1=round(sum(x1) / len(x1))\n",
    "    c2=round(sum(x2) / len(x2))\n",
    "    if c1==c11 and c2==c12:\n",
    "        flag=False\n",
    "        break\n",
    "    else:\n",
    "        iteration = iteration+1\n",
    "        c11=c1\n",
    "        c12=c2"
   ]
  },
  {
   "cell_type": "code",
   "execution_count": null,
   "metadata": {},
   "outputs": [],
   "source": []
  }
 ],
 "metadata": {
  "kernelspec": {
   "display_name": "Python 3",
   "language": "python",
   "name": "python3"
  },
  "language_info": {
   "codemirror_mode": {
    "name": "ipython",
    "version": 3
   },
   "file_extension": ".py",
   "mimetype": "text/x-python",
   "name": "python",
   "nbconvert_exporter": "python",
   "pygments_lexer": "ipython3",
   "version": "3.8.5"
  }
 },
 "nbformat": 4,
 "nbformat_minor": 4
}
